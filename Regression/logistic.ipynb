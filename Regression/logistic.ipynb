{
 "cells": [
  {
   "cell_type": "code",
   "execution_count": 11,
   "metadata": {},
   "outputs": [],
   "source": [
    "import numpy as np\n",
    "import pandas as pd\n",
    "\n",
    "data = pd.read_csv(\"diabetes_dataset.csv\")\n",
    "\n",
    "X = data[[\"BMI\"]].values\n",
    "y = data[\"Outcome\"].values\n"
   ]
  },
  {
   "cell_type": "markdown",
   "metadata": {},
   "source": [
    "## Normalization"
   ]
  },
  {
   "cell_type": "code",
   "execution_count": 12,
   "metadata": {},
   "outputs": [],
   "source": [
    "X = (X - X.mean()) / X.std()  "
   ]
  },
  {
   "cell_type": "markdown",
   "metadata": {},
   "source": [
    "## Sigmoid Function"
   ]
  },
  {
   "cell_type": "code",
   "execution_count": 13,
   "metadata": {},
   "outputs": [],
   "source": [
    "def sigmoid(z):\n",
    "    return 1 / (1 + np.exp(-z))\n"
   ]
  },
  {
   "cell_type": "markdown",
   "metadata": {},
   "source": [
    "## Parameters"
   ]
  },
  {
   "cell_type": "code",
   "execution_count": 16,
   "metadata": {},
   "outputs": [],
   "source": [
    "X= np.c_[np.ones((X.shape[0],1)),X] # Add bias term (intercept)\n",
    "w = np.zeros(X.shape[1])   \n",
    "L = 0.001                  \n",
    "epochs = 1000\n",
    "n = len(X)"
   ]
  },
  {
   "cell_type": "markdown",
   "metadata": {},
   "source": [
    "## Gradient Descent"
   ]
  },
  {
   "cell_type": "code",
   "execution_count": 17,
   "metadata": {},
   "outputs": [
    {
     "name": "stdout",
     "output_type": "stream",
     "text": [
      "Epoch 0: Loss=0.6931\n",
      "Epoch 100: Loss=0.6869\n",
      "Epoch 200: Loss=0.6812\n",
      "Epoch 300: Loss=0.6759\n",
      "Epoch 400: Loss=0.6710\n",
      "Epoch 500: Loss=0.6666\n",
      "Epoch 600: Loss=0.6624\n",
      "Epoch 700: Loss=0.6586\n",
      "Epoch 800: Loss=0.6551\n",
      "Epoch 900: Loss=0.6519\n",
      "\n",
      "Final Weights: [-0.11901494 -0.11901494  0.12365148]\n"
     ]
    }
   ],
   "source": [
    "for i in range(epochs):\n",
    "    z = np.dot(X, w)            # linear combination\n",
    "    y_pred = sigmoid(z)         # apply sigmoid\n",
    "    \n",
    "    # Gradient of loss function (Binary Cross-Entropy)\n",
    "    gradient = (1/n) * np.dot(X.T, (y_pred - y))\n",
    "    \n",
    "    # Update weights\n",
    "    w -= L * gradient\n",
    "    \n",
    "    # Print loss occasionally\n",
    "    if i % 100 == 0:\n",
    "        loss = -np.mean(y*np.log(y_pred+1e-9) + (1-y)*np.log(1-y_pred+1e-9))\n",
    "        print(f\"Epoch {i}: Loss={loss:.4f}\")\n",
    "\n",
    "print(\"\\nFinal Weights:\", w)\n"
   ]
  },
  {
   "cell_type": "markdown",
   "metadata": {},
   "source": [
    "## Predictions"
   ]
  },
  {
   "cell_type": "code",
   "execution_count": 18,
   "metadata": {},
   "outputs": [
    {
     "name": "stdout",
     "output_type": "stream",
     "text": [
      "Accuracy: 0.6640625\n"
     ]
    }
   ],
   "source": [
    "y_pred_class = (sigmoid(np.dot(X, w)) >= 0.5).astype(int)\n",
    "accuracy = np.mean(y_pred_class == y)\n",
    "print(\"Accuracy:\", accuracy)"
   ]
  }
 ],
 "metadata": {
  "kernelspec": {
   "display_name": "Python 3",
   "language": "python",
   "name": "python3"
  },
  "language_info": {
   "codemirror_mode": {
    "name": "ipython",
    "version": 3
   },
   "file_extension": ".py",
   "mimetype": "text/x-python",
   "name": "python",
   "nbconvert_exporter": "python",
   "pygments_lexer": "ipython3",
   "version": "3.13.1"
  }
 },
 "nbformat": 4,
 "nbformat_minor": 2
}
