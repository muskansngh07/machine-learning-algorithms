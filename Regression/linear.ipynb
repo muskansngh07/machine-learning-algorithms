{
 "cells": [
  {
   "cell_type": "code",
   "execution_count": 2,
   "metadata": {},
   "outputs": [],
   "source": [
    "import numpy as np\n",
    "import pandas as pd\n",
    "\n",
    "data = pd.read_csv(\"diabetes_dataset.csv\")\n",
    "\n",
    "X = data[\"BMI\"].values    \n",
    "y = data[\"Age\"].values    \n"
   ]
  },
  {
   "cell_type": "markdown",
   "metadata": {},
   "source": [
    "## z-score Normalization"
   ]
  },
  {
   "cell_type": "code",
   "execution_count": 3,
   "metadata": {},
   "outputs": [],
   "source": [
    "# Normalize feature for faster convergence\n",
    "X = (X - X.mean()) / X.std()"
   ]
  },
  {
   "cell_type": "markdown",
   "metadata": {},
   "source": [
    "## Gradient Descent Algorithm"
   ]
  },
  {
   "cell_type": "code",
   "execution_count": 4,
   "metadata": {},
   "outputs": [
    {
     "name": "stdout",
     "output_type": "stream",
     "text": [
      "Epoch 0: m=0.0085, c=0.6648, MSE=1243.0794\n",
      "Epoch 100: m=0.3706, c=28.9207, MSE=157.3786\n",
      "Epoch 200: m=0.4186, c=32.6679, MSE=138.2834\n",
      "Epoch 300: m=0.4250, c=33.1649, MSE=137.9476\n",
      "Epoch 400: m=0.4258, c=33.2308, MSE=137.9416\n",
      "Epoch 500: m=0.4259, c=33.2395, MSE=137.9415\n",
      "Epoch 600: m=0.4259, c=33.2407, MSE=137.9415\n",
      "Epoch 700: m=0.4259, c=33.2409, MSE=137.9415\n",
      "Epoch 800: m=0.4259, c=33.2409, MSE=137.9415\n",
      "Epoch 900: m=0.4259, c=33.2409, MSE=137.9415\n"
     ]
    }
   ],
   "source": [
    "m = 0.0  # slope (weight)\n",
    "c = 0.0  # intercept (bias)\n",
    "\n",
    "L = 0.01    # learning rate\n",
    "epochs = 1000   # number of iterations\n",
    "n = len(X)\n",
    "\n",
    "for i in range(epochs):\n",
    "    y_pred = m * X + c\n",
    "    error = y_pred - y\n",
    "    \n",
    "    # Compute gradients\n",
    "    dm = (2/n) * sum(X.flatten() * error)\n",
    "    dc = (2/n) * sum(error)\n",
    "    \n",
    "    # Update parameters\n",
    "    m -= L * dm\n",
    "    c -= L * dc\n",
    "    \n",
    "# Print every 100 steps\n",
    "    if i % 100 == 0:\n",
    "        mse = np.mean(error**2)\n",
    "        print(f\"Epoch {i}: m={m:.4f}, c={c:.4f}, MSE={mse:.4f}\")"
   ]
  },
  {
   "cell_type": "code",
   "execution_count": 5,
   "metadata": {},
   "outputs": [
    {
     "name": "stdout",
     "output_type": "stream",
     "text": [
      "\n",
      "Final Model: y = 0.426 * x + 33.241\n"
     ]
    }
   ],
   "source": [
    "print(\"\\nFinal Model: y =\", round(m,3), \"* x +\", round(c,3))"
   ]
  }
 ],
 "metadata": {
  "kernelspec": {
   "display_name": "Python 3",
   "language": "python",
   "name": "python3"
  },
  "language_info": {
   "codemirror_mode": {
    "name": "ipython",
    "version": 3
   },
   "file_extension": ".py",
   "mimetype": "text/x-python",
   "name": "python",
   "nbconvert_exporter": "python",
   "pygments_lexer": "ipython3",
   "version": "3.13.1"
  }
 },
 "nbformat": 4,
 "nbformat_minor": 2
}
